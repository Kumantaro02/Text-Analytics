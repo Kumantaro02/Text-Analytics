{
 "cells": [
  {
   "cell_type": "markdown",
   "id": "e1879f3a",
   "metadata": {},
   "source": [
    "### 1. Name : Muhamad Afnan Nadzran Bin Mohd Fazlee Student ID : SW01081169\n",
    "### 2. Name : Adam Nabil Rasyad Bin Mohd Rafidi  Student ID : SW01081420"
   ]
  },
  {
   "cell_type": "code",
   "execution_count": 4,
   "id": "8a800481",
   "metadata": {},
   "outputs": [
    {
     "name": "stdout",
     "output_type": "stream",
     "text": [
      "Data saved to shopee_reviews.csv\n"
     ]
    }
   ],
   "source": [
    "import re\n",
    "import requests\n",
    "from datetime import datetime\n",
    "import csv\n",
    "\n",
    "#product url\n",
    "url = 'https://shopee.com.my/-RAMADAN-SALE-Jam-Tangan-Azan-Kiblat-Hantaran-Kahwin-Viral-Buruj-Menteri-Couple-Set-i.32298897.17752566098?sp_atk=b8be32c3-0121-47d3-82cd-6f51a27a1f54&xptdk=b8be32c3-0121-47d3-82cd-6f51a27a1f54'\n",
    "\n",
    "#Extracting shop ID and item ID from the URL using regular expressions\n",
    "r = re.search(r'i\\.(\\d+)\\.(\\d+)', url)\n",
    "if r:\n",
    "    shop_id, item_id = r.group(1), r.group(2)\n",
    "else:\n",
    "    print(\"Invalid URL\")\n",
    "    exit()\n",
    "\n",
    "offset = 0  \n",
    "page_count = 0 #Initialize page for limiting to 5 pages\n",
    "\n",
    "#Open a CSV file to write reviews\n",
    "with open('shopee_reviews.csv', mode='w', newline='', encoding='utf-8') as file:\n",
    "    writer = csv.writer(file)\n",
    "    writer.writerow(['Reviewer', 'Review Time', 'Comment'])  # Write header row\n",
    "    \n",
    "    while page_count < 5:\n",
    "        #Construct the URL to fetch reviews from Shopee API\n",
    "        ratings_url = f'https://shopee.com.my/api/v2/item/get_ratings?filter=0&flag=1&itemid={item_id}&limit=20&offset={offset}&shopid={shop_id}&type=0'\n",
    "        data = requests.get(ratings_url).json()\n",
    "\n",
    "        #Iterate over the ratings data and write reviews to the CSV file\n",
    "        for rating in data['data']['ratings']:\n",
    "            review_time = datetime.fromtimestamp(rating['ctime']).strftime('%Y-%m-%d %H:%M:%S')\n",
    "            writer.writerow([rating['author_username'], review_time, rating['comment']])\n",
    "         \n",
    "        # Check if there are fewer than 20 ratings on the current page\n",
    "        if len(data['data']['ratings']) < 20:\n",
    "            break\n",
    "        \n",
    "        offset += 20\n",
    "        page_count += 1\n",
    "\n",
    "print(\"Data saved to shopee_reviews.csv\")\n"
   ]
  },
  {
   "cell_type": "code",
   "execution_count": null,
   "id": "a0597c82",
   "metadata": {},
   "outputs": [],
   "source": []
  }
 ],
 "metadata": {
  "kernelspec": {
   "display_name": "Python 3 (ipykernel)",
   "language": "python",
   "name": "python3"
  },
  "language_info": {
   "codemirror_mode": {
    "name": "ipython",
    "version": 3
   },
   "file_extension": ".py",
   "mimetype": "text/x-python",
   "name": "python",
   "nbconvert_exporter": "python",
   "pygments_lexer": "ipython3",
   "version": "3.11.5"
  }
 },
 "nbformat": 4,
 "nbformat_minor": 5
}
