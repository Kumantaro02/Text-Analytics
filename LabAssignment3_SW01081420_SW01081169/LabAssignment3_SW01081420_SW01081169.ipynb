{
 "cells": [
  {
   "cell_type": "markdown",
   "metadata": {},
   "source": [
    "## Group Members:\n",
    "### Name: Adam Nabil Rasyad Bin Mohd Rafidi \n",
    "### Student ID : SW01081420\n",
    "### Name: Muhamad Afnan Nadzran Bin Mohd Fazlee \n",
    "### Student ID : SW01081169"
   ]
  },
  {
   "cell_type": "code",
   "execution_count": 1,
   "metadata": {
    "colab": {
     "base_uri": "https://localhost:8080/",
     "height": 1000
    },
    "id": "MWMgvUK_-Hq2",
    "outputId": "d357d3c6-7727-4983-9916-1d6499099254"
   },
   "outputs": [
    {
     "name": "stderr",
     "output_type": "stream",
     "text": [
      "[nltk_data] Downloading package stopwords to\n",
      "[nltk_data]     C:\\Users\\ADAM\\AppData\\Roaming\\nltk_data...\n",
      "[nltk_data]   Package stopwords is already up-to-date!\n",
      "[nltk_data] Downloading package wordnet to\n",
      "[nltk_data]     C:\\Users\\ADAM\\AppData\\Roaming\\nltk_data...\n",
      "[nltk_data]   Package wordnet is already up-to-date!\n",
      "[nltk_data] Downloading package punkt to\n",
      "[nltk_data]     C:\\Users\\ADAM\\AppData\\Roaming\\nltk_data...\n",
      "[nltk_data]   Package punkt is already up-to-date!\n"
     ]
    },
    {
     "name": "stdout",
     "output_type": "stream",
     "text": [
      "Topic Coherence Score (C_V): 0.6466\n",
      "Top Terms for Each Topic with Weight:\n",
      "Topic 0:\n",
      "- \"year\" (weight: 0.008)\n",
      "- \"would\" (weight: 0.006)\n",
      "- \"president\" (weight: 0.006)\n",
      "- \"game\" (weight: 0.005)\n",
      "- \"one\" (weight: 0.005)\n",
      "- \"get\" (weight: 0.005)\n",
      "- \"new\" (weight: 0.005)\n",
      "- \"time\" (weight: 0.005)\n",
      "- \"team\" (weight: 0.004)\n",
      "- \"think\" (weight: 0.004)\n",
      "\n",
      "Topic 1:\n",
      "- \"1\" (weight: 0.058)\n",
      "- \"0\" (weight: 0.044)\n",
      "- \"q\" (weight: 0.043)\n",
      "- \"x\" (weight: 0.043)\n",
      "- \"max\" (weight: 0.042)\n",
      "- \"2\" (weight: 0.039)\n",
      "- \"7\" (weight: 0.027)\n",
      "- \"g\" (weight: 0.027)\n",
      "- \"r\" (weight: 0.027)\n",
      "- \"3\" (weight: 0.024)\n",
      "\n",
      "Topic 2:\n",
      "- \"people\" (weight: 0.012)\n",
      "- \"would\" (weight: 0.011)\n",
      "- \"one\" (weight: 0.010)\n",
      "- \"say\" (weight: 0.006)\n",
      "- \"think\" (weight: 0.006)\n",
      "- \"know\" (weight: 0.006)\n",
      "- \"government\" (weight: 0.005)\n",
      "- \"god\" (weight: 0.005)\n",
      "- \"right\" (weight: 0.005)\n",
      "- \"u\" (weight: 0.005)\n",
      "\n",
      "Topic 3:\n",
      "- \"key\" (weight: 0.011)\n",
      "- \"use\" (weight: 0.009)\n",
      "- \"file\" (weight: 0.008)\n",
      "- \"system\" (weight: 0.008)\n",
      "- \"x\" (weight: 0.006)\n",
      "- \"one\" (weight: 0.006)\n",
      "- \"chip\" (weight: 0.006)\n",
      "- \"encryption\" (weight: 0.005)\n",
      "- \"get\" (weight: 0.005)\n",
      "- \"would\" (weight: 0.005)\n",
      "\n"
     ]
    },
    {
     "data": {
      "text/plain": [
       "'\\nThe coherence score reflects the interpretability and meaningfulness of the topics produced by the LDA model.\\nA higher coherence score signifies that the topics are more coherent and well-defined, making them easier to interpret and analyze.\\nA lower coherence score suggests that the topics are less coherent and may need further refinement.\\n'"
      ]
     },
     "execution_count": 1,
     "metadata": {},
     "output_type": "execute_result"
    }
   ],
   "source": [
    "\n",
    "\n",
    "# Import the necessary libraries\n",
    "import pandas as pd\n",
    "import nltk\n",
    "from nltk.corpus import stopwords\n",
    "from nltk.tokenize import word_tokenize\n",
    "from nltk.stem import WordNetLemmatizer\n",
    "from gensim import corpora\n",
    "from gensim.models import LdaModel\n",
    "from gensim.models.coherencemodel import CoherenceModel\n",
    "nltk.download('stopwords')\n",
    "nltk.download('wordnet')\n",
    "nltk.download('punkt')\n",
    "\n",
    "# Read the data (use only the ‘text’ column)\n",
    "df = pd.read_csv('news_dataset.csv')\n",
    "documents = df['text'].dropna().tolist()  # Use only the 'text' column and remove null values\n",
    "\n",
    "# Text pre-processing\n",
    "stop_words = set(stopwords.words('english'))\n",
    "lemmatizer = WordNetLemmatizer()\n",
    "\n",
    "def preprocess_text(text):\n",
    "    tokens = word_tokenize(text.lower())  # Tokenize the text into words and convert to lowercase\n",
    "    tokens = [token for token in tokens if token.isalnum()]  # Filter out non-alphanumeric tokens\n",
    "    tokens = [token for token in tokens if token not in stop_words]  # Remove stopwords from the tokens\n",
    "    tokens = [lemmatizer.lemmatize(token) for token in tokens]  # Lemmatize each token\n",
    "    return tokens  # Return the preprocessed tokens\n",
    "\n",
    "preprocessed_documents = [preprocess_text(doc) for doc in documents]\n",
    "\n",
    "# Create a dictionary and corpus for LDA\n",
    "dictionary = corpora.Dictionary(preprocessed_documents)  # Create a Gensim Dictionary object from the preprocessed documents\n",
    "dictionary.filter_extremes(no_below=15, no_above=0.5)  # Filter out tokens that appear in less than 15 documents or more than 50% of the documents\n",
    "corpus = [dictionary.doc2bow(doc) for doc in preprocessed_documents]  # Convert each preprocessed document into a bag-of-words representation using the dictionary\n",
    "\n",
    "# Perform LDA using Gensim\n",
    "lda_model = LdaModel(corpus, num_topics=4, id2word=dictionary, passes=15)  # Train an LDA model on the corpus with 4 topics using Gensim's LdaModel class\n",
    "\n",
    "# Evaluate the LDA model using Coherence score\n",
    "coherence_model_lda = CoherenceModel(model=lda_model, texts=preprocessed_documents, dictionary=dictionary, coherence='c_v')\n",
    "coherence_lda = coherence_model_lda.get_coherence()\n",
    "\n",
    "# Print the topics and coherence score\n",
    "print(f'Topic Coherence Score (C_V): {coherence_lda:.4f}')\n",
    "\n",
    "# Interpret the result\n",
    "article_labels = []  # Empty list to store dominant topic labels for each document\n",
    "\n",
    "# Iterate over each processed document\n",
    "article_labels = []  # Empty list to store dominant topic labels for each document\n",
    "\n",
    "# Iterate over each processed document\n",
    "for i, doc in enumerate(preprocessed_documents):\n",
    "    bow = dictionary.doc2bow(doc)  # For each document, convert to BOW representation\n",
    "    topics = lda_model.get_document_topics(bow)  # Get list of topic probabilities\n",
    "    dominant_topic = max(topics, key=lambda x: x[1])[0]  # Determine topic with highest probability\n",
    "    article_labels.append(dominant_topic)  # Append to the list\n",
    "\n",
    "# Print the top terms for each topic\n",
    "print(\"Top Terms for Each Topic with Weight:\")\n",
    "for idx, topic in lda_model.print_topics():\n",
    "    print(f\"Topic {idx}:\")\n",
    "    terms = [term.strip() for term in topic.split(\"+\")]\n",
    "    for term in terms:\n",
    "        weight, word = term.split(\"*\")\n",
    "        print(f\"- {word.strip()} (weight: {weight.strip()})\")\n",
    "    print()\n",
    "\n",
    "# Interpretation of the coherence score\n",
    "\"\"\"\n",
    "The coherence score reflects the interpretability and meaningfulness of the topics produced by the LDA model.\n",
    "A higher coherence score signifies that the topics are more coherent and well-defined, making them easier to interpret and analyze.\n",
    "A lower coherence score suggests that the topics are less coherent and may need further refinement.\n",
    "\"\"\"\n"
   ]
  },
  {
   "cell_type": "code",
   "execution_count": null,
   "metadata": {
    "id": "kQoFOh90CxCg"
   },
   "outputs": [],
   "source": []
  }
 ],
 "metadata": {
  "colab": {
   "provenance": []
  },
  "kernelspec": {
   "display_name": "Python 3 (ipykernel)",
   "language": "python",
   "name": "python3"
  },
  "language_info": {
   "codemirror_mode": {
    "name": "ipython",
    "version": 3
   },
   "file_extension": ".py",
   "mimetype": "text/x-python",
   "name": "python",
   "nbconvert_exporter": "python",
   "pygments_lexer": "ipython3",
   "version": "3.11.5"
  }
 },
 "nbformat": 4,
 "nbformat_minor": 1
}
